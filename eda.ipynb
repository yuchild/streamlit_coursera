{
 "cells": [
  {
   "cell_type": "code",
   "execution_count": 1,
   "metadata": {},
   "outputs": [],
   "source": [
    "import pandas as pd\n",
    "import numpy as np"
   ]
  },
  {
   "cell_type": "code",
   "execution_count": 3,
   "metadata": {
    "scrolled": true
   },
   "outputs": [],
   "source": [
    "data = pd.read_csv('./data/Tweets.csv')"
   ]
  },
  {
   "cell_type": "code",
   "execution_count": 4,
   "metadata": {},
   "outputs": [
    {
     "name": "stdout",
     "output_type": "stream",
     "text": [
      "<class 'pandas.core.frame.DataFrame'>\n",
      "RangeIndex: 14640 entries, 0 to 14639\n",
      "Data columns (total 15 columns):\n",
      " #   Column                        Non-Null Count  Dtype  \n",
      "---  ------                        --------------  -----  \n",
      " 0   tweet_id                      14640 non-null  int64  \n",
      " 1   airline_sentiment             14640 non-null  object \n",
      " 2   airline_sentiment_confidence  14640 non-null  float64\n",
      " 3   negativereason                9178 non-null   object \n",
      " 4   negativereason_confidence     10522 non-null  float64\n",
      " 5   airline                       14640 non-null  object \n",
      " 6   airline_sentiment_gold        40 non-null     object \n",
      " 7   name                          14640 non-null  object \n",
      " 8   negativereason_gold           32 non-null     object \n",
      " 9   retweet_count                 14640 non-null  int64  \n",
      " 10  text                          14640 non-null  object \n",
      " 11  tweet_coord                   1019 non-null   object \n",
      " 12  tweet_created                 14640 non-null  object \n",
      " 13  tweet_location                9907 non-null   object \n",
      " 14  user_timezone                 9820 non-null   object \n",
      "dtypes: float64(2), int64(2), object(11)\n",
      "memory usage: 1.7+ MB\n"
     ]
    }
   ],
   "source": [
    "data.info()"
   ]
  },
  {
   "cell_type": "code",
   "execution_count": 5,
   "metadata": {},
   "outputs": [
    {
     "name": "stdout",
     "output_type": "stream",
     "text": [
      "<class 'pandas.core.frame.DataFrame'>\n",
      "RangeIndex: 14640 entries, 0 to 14639\n",
      "Data columns (total 15 columns):\n",
      " #   Column                        Non-Null Count  Dtype                                 \n",
      "---  ------                        --------------  -----                                 \n",
      " 0   tweet_id                      14640 non-null  int64                                 \n",
      " 1   airline_sentiment             14640 non-null  object                                \n",
      " 2   airline_sentiment_confidence  14640 non-null  float64                               \n",
      " 3   negativereason                9178 non-null   object                                \n",
      " 4   negativereason_confidence     10522 non-null  float64                               \n",
      " 5   airline                       14640 non-null  object                                \n",
      " 6   airline_sentiment_gold        40 non-null     object                                \n",
      " 7   name                          14640 non-null  object                                \n",
      " 8   negativereason_gold           32 non-null     object                                \n",
      " 9   retweet_count                 14640 non-null  int64                                 \n",
      " 10  text                          14640 non-null  object                                \n",
      " 11  tweet_coord                   1019 non-null   object                                \n",
      " 12  tweet_created                 14640 non-null  datetime64[ns, pytz.FixedOffset(-480)]\n",
      " 13  tweet_location                9907 non-null   object                                \n",
      " 14  user_timezone                 9820 non-null   object                                \n",
      "dtypes: datetime64[ns, pytz.FixedOffset(-480)](1), float64(2), int64(2), object(10)\n",
      "memory usage: 1.7+ MB\n"
     ]
    }
   ],
   "source": [
    "data['tweet_created'] = pd.to_datetime(data['tweet_created'])\n",
    "data.info()"
   ]
  },
  {
   "cell_type": "code",
   "execution_count": 6,
   "metadata": {},
   "outputs": [
    {
     "data": {
      "text/plain": [
       "21        [40.74804263, -73.99295302]\n",
       "28          [42.361016, -71.02000488]\n",
       "29        [33.94540417, -118.4062472]\n",
       "32       [33.94209449, -118.40410103]\n",
       "34          [33.2145038, -96.9321504]\n",
       "                     ...             \n",
       "14577    [33.93939612, -118.38973148]\n",
       "14596    [35.22534456, -106.57241352]\n",
       "14612     [40.46692522, -82.64567078]\n",
       "14624      [32.9070889, -97.03785947]\n",
       "14625     [40.64946781, -73.76624703]\n",
       "Name: tweet_coord, Length: 1019, dtype: object"
      ]
     },
     "execution_count": 6,
     "metadata": {},
     "output_type": "execute_result"
    }
   ],
   "source": [
    "data[~data['tweet_coord'].isna()]['tweet_coord']"
   ]
  },
  {
   "cell_type": "code",
   "execution_count": 7,
   "metadata": {},
   "outputs": [
    {
     "data": {
      "text/plain": [
       "'[40.74804263, -73.99295302]'"
      ]
     },
     "execution_count": 7,
     "metadata": {},
     "output_type": "execute_result"
    }
   ],
   "source": [
    "data['tweet_coord'].iloc[21]"
   ]
  },
  {
   "cell_type": "code",
   "execution_count": 8,
   "metadata": {},
   "outputs": [],
   "source": [
    "def parse_geo(string):\n",
    "    try:\n",
    "        return string[1:-1]\n",
    "    except:\n",
    "        return np.nan"
   ]
  },
  {
   "cell_type": "code",
   "execution_count": 9,
   "metadata": {},
   "outputs": [],
   "source": [
    "data['geo'] = data['tweet_coord'].apply(parse_geo)"
   ]
  },
  {
   "cell_type": "code",
   "execution_count": 11,
   "metadata": {},
   "outputs": [
    {
     "data": {
      "text/html": [
       "<div>\n",
       "<style scoped>\n",
       "    .dataframe tbody tr th:only-of-type {\n",
       "        vertical-align: middle;\n",
       "    }\n",
       "\n",
       "    .dataframe tbody tr th {\n",
       "        vertical-align: top;\n",
       "    }\n",
       "\n",
       "    .dataframe thead th {\n",
       "        text-align: right;\n",
       "    }\n",
       "</style>\n",
       "<table border=\"1\" class=\"dataframe\">\n",
       "  <thead>\n",
       "    <tr style=\"text-align: right;\">\n",
       "      <th></th>\n",
       "      <th>tweet_coord</th>\n",
       "      <th>geo</th>\n",
       "    </tr>\n",
       "  </thead>\n",
       "  <tbody>\n",
       "    <tr>\n",
       "      <th>0</th>\n",
       "      <td>NaN</td>\n",
       "      <td>NaN</td>\n",
       "    </tr>\n",
       "    <tr>\n",
       "      <th>1</th>\n",
       "      <td>NaN</td>\n",
       "      <td>NaN</td>\n",
       "    </tr>\n",
       "    <tr>\n",
       "      <th>2</th>\n",
       "      <td>NaN</td>\n",
       "      <td>NaN</td>\n",
       "    </tr>\n",
       "    <tr>\n",
       "      <th>3</th>\n",
       "      <td>NaN</td>\n",
       "      <td>NaN</td>\n",
       "    </tr>\n",
       "    <tr>\n",
       "      <th>4</th>\n",
       "      <td>NaN</td>\n",
       "      <td>NaN</td>\n",
       "    </tr>\n",
       "    <tr>\n",
       "      <th>...</th>\n",
       "      <td>...</td>\n",
       "      <td>...</td>\n",
       "    </tr>\n",
       "    <tr>\n",
       "      <th>14635</th>\n",
       "      <td>NaN</td>\n",
       "      <td>NaN</td>\n",
       "    </tr>\n",
       "    <tr>\n",
       "      <th>14636</th>\n",
       "      <td>NaN</td>\n",
       "      <td>NaN</td>\n",
       "    </tr>\n",
       "    <tr>\n",
       "      <th>14637</th>\n",
       "      <td>NaN</td>\n",
       "      <td>NaN</td>\n",
       "    </tr>\n",
       "    <tr>\n",
       "      <th>14638</th>\n",
       "      <td>NaN</td>\n",
       "      <td>NaN</td>\n",
       "    </tr>\n",
       "    <tr>\n",
       "      <th>14639</th>\n",
       "      <td>NaN</td>\n",
       "      <td>NaN</td>\n",
       "    </tr>\n",
       "  </tbody>\n",
       "</table>\n",
       "<p>14640 rows × 2 columns</p>\n",
       "</div>"
      ],
      "text/plain": [
       "      tweet_coord  geo\n",
       "0             NaN  NaN\n",
       "1             NaN  NaN\n",
       "2             NaN  NaN\n",
       "3             NaN  NaN\n",
       "4             NaN  NaN\n",
       "...           ...  ...\n",
       "14635         NaN  NaN\n",
       "14636         NaN  NaN\n",
       "14637         NaN  NaN\n",
       "14638         NaN  NaN\n",
       "14639         NaN  NaN\n",
       "\n",
       "[14640 rows x 2 columns]"
      ]
     },
     "execution_count": 11,
     "metadata": {},
     "output_type": "execute_result"
    }
   ],
   "source": [
    "data[['tweet_coord', 'geo']]"
   ]
  },
  {
   "cell_type": "code",
   "execution_count": 12,
   "metadata": {},
   "outputs": [],
   "source": [
    "lat = []\n",
    "lon = []\n",
    "\n",
    "for row in data['geo']:\n",
    "    try:\n",
    "        lat.append(row.split(', ')[0])\n",
    "        lon.append(row.split(', ')[1])\n",
    "    except:\n",
    "        lat.append(np.nan)\n",
    "        lon.append(np.nan)\n",
    "\n",
    "data['latitude'] = lat\n",
    "data['longitude'] = lon"
   ]
  },
  {
   "cell_type": "code",
   "execution_count": 13,
   "metadata": {},
   "outputs": [
    {
     "data": {
      "text/plain": [
       "(14640, 18)"
      ]
     },
     "execution_count": 13,
     "metadata": {},
     "output_type": "execute_result"
    }
   ],
   "source": [
    "data.shape"
   ]
  },
  {
   "cell_type": "code",
   "execution_count": 14,
   "metadata": {},
   "outputs": [
    {
     "data": {
      "text/plain": [
       "(14640, 14640)"
      ]
     },
     "execution_count": 14,
     "metadata": {},
     "output_type": "execute_result"
    }
   ],
   "source": [
    "len(lat), len(lon)"
   ]
  },
  {
   "cell_type": "code",
   "execution_count": 19,
   "metadata": {},
   "outputs": [
    {
     "data": {
      "text/html": [
       "<div>\n",
       "<style scoped>\n",
       "    .dataframe tbody tr th:only-of-type {\n",
       "        vertical-align: middle;\n",
       "    }\n",
       "\n",
       "    .dataframe tbody tr th {\n",
       "        vertical-align: top;\n",
       "    }\n",
       "\n",
       "    .dataframe thead th {\n",
       "        text-align: right;\n",
       "    }\n",
       "</style>\n",
       "<table border=\"1\" class=\"dataframe\">\n",
       "  <thead>\n",
       "    <tr style=\"text-align: right;\">\n",
       "      <th></th>\n",
       "      <th>tweet_id</th>\n",
       "      <th>airline_sentiment</th>\n",
       "      <th>airline_sentiment_confidence</th>\n",
       "      <th>negativereason</th>\n",
       "      <th>negativereason_confidence</th>\n",
       "      <th>airline</th>\n",
       "      <th>airline_sentiment_gold</th>\n",
       "      <th>name</th>\n",
       "      <th>negativereason_gold</th>\n",
       "      <th>retweet_count</th>\n",
       "      <th>text</th>\n",
       "      <th>tweet_coord</th>\n",
       "      <th>tweet_created</th>\n",
       "      <th>tweet_location</th>\n",
       "      <th>user_timezone</th>\n",
       "      <th>geo</th>\n",
       "      <th>latitude</th>\n",
       "      <th>longitude</th>\n",
       "    </tr>\n",
       "  </thead>\n",
       "  <tbody>\n",
       "    <tr>\n",
       "      <th>12783</th>\n",
       "      <td>570024324666564610</td>\n",
       "      <td>negative</td>\n",
       "      <td>1.0000</td>\n",
       "      <td>Customer Service Issue</td>\n",
       "      <td>0.6927</td>\n",
       "      <td>American</td>\n",
       "      <td>NaN</td>\n",
       "      <td>garytx</td>\n",
       "      <td>NaN</td>\n",
       "      <td>3</td>\n",
       "      <td>.@AmericanAir No. I watched these bags be aban...</td>\n",
       "      <td>NaN</td>\n",
       "      <td>2015-02-23 16:56:04-08:00</td>\n",
       "      <td>Austin, Texas area</td>\n",
       "      <td>Central Time (US &amp; Canada)</td>\n",
       "      <td>NaN</td>\n",
       "      <td>NaN</td>\n",
       "      <td>NaN</td>\n",
       "    </tr>\n",
       "    <tr>\n",
       "      <th>1666</th>\n",
       "      <td>569630987858132992</td>\n",
       "      <td>negative</td>\n",
       "      <td>1.0000</td>\n",
       "      <td>Bad Flight</td>\n",
       "      <td>0.3371</td>\n",
       "      <td>United</td>\n",
       "      <td>NaN</td>\n",
       "      <td>anuaimi</td>\n",
       "      <td>NaN</td>\n",
       "      <td>0</td>\n",
       "      <td>@united of course. But interesting how United ...</td>\n",
       "      <td>NaN</td>\n",
       "      <td>2015-02-22 14:53:05-08:00</td>\n",
       "      <td>Toronto</td>\n",
       "      <td>Eastern Time (US &amp; Canada)</td>\n",
       "      <td>NaN</td>\n",
       "      <td>NaN</td>\n",
       "      <td>NaN</td>\n",
       "    </tr>\n",
       "    <tr>\n",
       "      <th>11827</th>\n",
       "      <td>567734506434854912</td>\n",
       "      <td>negative</td>\n",
       "      <td>1.0000</td>\n",
       "      <td>Customer Service Issue</td>\n",
       "      <td>1.0000</td>\n",
       "      <td>US Airways</td>\n",
       "      <td>NaN</td>\n",
       "      <td>portugrad</td>\n",
       "      <td>NaN</td>\n",
       "      <td>0</td>\n",
       "      <td>@USAirways I can't believe that you would refe...</td>\n",
       "      <td>NaN</td>\n",
       "      <td>2015-02-17 09:17:08-08:00</td>\n",
       "      <td>Chicagoland Area</td>\n",
       "      <td>Central Time (US &amp; Canada)</td>\n",
       "      <td>NaN</td>\n",
       "      <td>NaN</td>\n",
       "      <td>NaN</td>\n",
       "    </tr>\n",
       "    <tr>\n",
       "      <th>12528</th>\n",
       "      <td>570123872168574976</td>\n",
       "      <td>negative</td>\n",
       "      <td>1.0000</td>\n",
       "      <td>Customer Service Issue</td>\n",
       "      <td>1.0000</td>\n",
       "      <td>American</td>\n",
       "      <td>NaN</td>\n",
       "      <td>mycreativespark</td>\n",
       "      <td>NaN</td>\n",
       "      <td>0</td>\n",
       "      <td>@AmericanAir will not help us on the phone, at...</td>\n",
       "      <td>NaN</td>\n",
       "      <td>2015-02-23 23:31:38-08:00</td>\n",
       "      <td>Ohio</td>\n",
       "      <td>Quito</td>\n",
       "      <td>NaN</td>\n",
       "      <td>NaN</td>\n",
       "      <td>NaN</td>\n",
       "    </tr>\n",
       "    <tr>\n",
       "      <th>7934</th>\n",
       "      <td>568963192489029632</td>\n",
       "      <td>neutral</td>\n",
       "      <td>0.3469</td>\n",
       "      <td>NaN</td>\n",
       "      <td>0.0000</td>\n",
       "      <td>Delta</td>\n",
       "      <td>NaN</td>\n",
       "      <td>tsmit</td>\n",
       "      <td>NaN</td>\n",
       "      <td>0</td>\n",
       "      <td>@JetBlue weather where?  It's 60 in SFO and fl...</td>\n",
       "      <td>NaN</td>\n",
       "      <td>2015-02-20 18:39:30-08:00</td>\n",
       "      <td>Boston, MA</td>\n",
       "      <td>Eastern Time (US &amp; Canada)</td>\n",
       "      <td>NaN</td>\n",
       "      <td>NaN</td>\n",
       "      <td>NaN</td>\n",
       "    </tr>\n",
       "    <tr>\n",
       "      <th>9506</th>\n",
       "      <td>569899859161026560</td>\n",
       "      <td>negative</td>\n",
       "      <td>1.0000</td>\n",
       "      <td>Customer Service Issue</td>\n",
       "      <td>1.0000</td>\n",
       "      <td>US Airways</td>\n",
       "      <td>NaN</td>\n",
       "      <td>electromail</td>\n",
       "      <td>NaN</td>\n",
       "      <td>0</td>\n",
       "      <td>@USAirways That is the height of rudeness, and...</td>\n",
       "      <td>NaN</td>\n",
       "      <td>2015-02-23 08:41:29-08:00</td>\n",
       "      <td>Watching @Interpol somewhere</td>\n",
       "      <td>Amsterdam</td>\n",
       "      <td>NaN</td>\n",
       "      <td>NaN</td>\n",
       "      <td>NaN</td>\n",
       "    </tr>\n",
       "    <tr>\n",
       "      <th>4106</th>\n",
       "      <td>567822065471860736</td>\n",
       "      <td>negative</td>\n",
       "      <td>1.0000</td>\n",
       "      <td>Late Flight</td>\n",
       "      <td>1.0000</td>\n",
       "      <td>United</td>\n",
       "      <td>NaN</td>\n",
       "      <td>cslhilo</td>\n",
       "      <td>NaN</td>\n",
       "      <td>1</td>\n",
       "      <td>@united You make it hard to fly with you. Dela...</td>\n",
       "      <td>NaN</td>\n",
       "      <td>2015-02-17 15:05:04-08:00</td>\n",
       "      <td>Hilo, HI</td>\n",
       "      <td>Hawaii</td>\n",
       "      <td>NaN</td>\n",
       "      <td>NaN</td>\n",
       "      <td>NaN</td>\n",
       "    </tr>\n",
       "    <tr>\n",
       "      <th>2996</th>\n",
       "      <td>568803679018491904</td>\n",
       "      <td>negative</td>\n",
       "      <td>0.6875</td>\n",
       "      <td>Late Flight</td>\n",
       "      <td>0.6875</td>\n",
       "      <td>United</td>\n",
       "      <td>NaN</td>\n",
       "      <td>josephpwilson</td>\n",
       "      <td>NaN</td>\n",
       "      <td>0</td>\n",
       "      <td>.@united Nope - had to rebook through Houston ...</td>\n",
       "      <td>NaN</td>\n",
       "      <td>2015-02-20 08:05:39-08:00</td>\n",
       "      <td>San Francisco, CA</td>\n",
       "      <td>NaN</td>\n",
       "      <td>NaN</td>\n",
       "      <td>NaN</td>\n",
       "      <td>NaN</td>\n",
       "    </tr>\n",
       "    <tr>\n",
       "      <th>919</th>\n",
       "      <td>570014406320517120</td>\n",
       "      <td>negative</td>\n",
       "      <td>1.0000</td>\n",
       "      <td>Bad Flight</td>\n",
       "      <td>0.6656</td>\n",
       "      <td>United</td>\n",
       "      <td>NaN</td>\n",
       "      <td>brooklyn_dodger</td>\n",
       "      <td>NaN</td>\n",
       "      <td>0</td>\n",
       "      <td>@united empathizes w/ my disappointment that 1...</td>\n",
       "      <td>NaN</td>\n",
       "      <td>2015-02-23 16:16:39-08:00</td>\n",
       "      <td>Brooklyn</td>\n",
       "      <td>Eastern Time (US &amp; Canada)</td>\n",
       "      <td>NaN</td>\n",
       "      <td>NaN</td>\n",
       "      <td>NaN</td>\n",
       "    </tr>\n",
       "    <tr>\n",
       "      <th>3489</th>\n",
       "      <td>568382290352590848</td>\n",
       "      <td>negative</td>\n",
       "      <td>0.7084</td>\n",
       "      <td>Flight Booking Problems</td>\n",
       "      <td>0.3618</td>\n",
       "      <td>United</td>\n",
       "      <td>NaN</td>\n",
       "      <td>swampynomo</td>\n",
       "      <td>NaN</td>\n",
       "      <td>0</td>\n",
       "      <td>@united thanks ^mr i got rebooked already but ...</td>\n",
       "      <td>NaN</td>\n",
       "      <td>2015-02-19 04:11:12-08:00</td>\n",
       "      <td>NJ/NYC</td>\n",
       "      <td>Eastern Time (US &amp; Canada)</td>\n",
       "      <td>NaN</td>\n",
       "      <td>NaN</td>\n",
       "      <td>NaN</td>\n",
       "    </tr>\n",
       "  </tbody>\n",
       "</table>\n",
       "</div>"
      ],
      "text/plain": [
       "                 tweet_id airline_sentiment  airline_sentiment_confidence  \\\n",
       "12783  570024324666564610          negative                        1.0000   \n",
       "1666   569630987858132992          negative                        1.0000   \n",
       "11827  567734506434854912          negative                        1.0000   \n",
       "12528  570123872168574976          negative                        1.0000   \n",
       "7934   568963192489029632           neutral                        0.3469   \n",
       "9506   569899859161026560          negative                        1.0000   \n",
       "4106   567822065471860736          negative                        1.0000   \n",
       "2996   568803679018491904          negative                        0.6875   \n",
       "919    570014406320517120          negative                        1.0000   \n",
       "3489   568382290352590848          negative                        0.7084   \n",
       "\n",
       "                negativereason  negativereason_confidence     airline  \\\n",
       "12783   Customer Service Issue                     0.6927    American   \n",
       "1666                Bad Flight                     0.3371      United   \n",
       "11827   Customer Service Issue                     1.0000  US Airways   \n",
       "12528   Customer Service Issue                     1.0000    American   \n",
       "7934                       NaN                     0.0000       Delta   \n",
       "9506    Customer Service Issue                     1.0000  US Airways   \n",
       "4106               Late Flight                     1.0000      United   \n",
       "2996               Late Flight                     0.6875      United   \n",
       "919                 Bad Flight                     0.6656      United   \n",
       "3489   Flight Booking Problems                     0.3618      United   \n",
       "\n",
       "      airline_sentiment_gold             name negativereason_gold  \\\n",
       "12783                    NaN           garytx                 NaN   \n",
       "1666                     NaN          anuaimi                 NaN   \n",
       "11827                    NaN        portugrad                 NaN   \n",
       "12528                    NaN  mycreativespark                 NaN   \n",
       "7934                     NaN            tsmit                 NaN   \n",
       "9506                     NaN      electromail                 NaN   \n",
       "4106                     NaN          cslhilo                 NaN   \n",
       "2996                     NaN    josephpwilson                 NaN   \n",
       "919                      NaN  brooklyn_dodger                 NaN   \n",
       "3489                     NaN       swampynomo                 NaN   \n",
       "\n",
       "       retweet_count                                               text  \\\n",
       "12783              3  .@AmericanAir No. I watched these bags be aban...   \n",
       "1666               0  @united of course. But interesting how United ...   \n",
       "11827              0  @USAirways I can't believe that you would refe...   \n",
       "12528              0  @AmericanAir will not help us on the phone, at...   \n",
       "7934               0  @JetBlue weather where?  It's 60 in SFO and fl...   \n",
       "9506               0  @USAirways That is the height of rudeness, and...   \n",
       "4106               1  @united You make it hard to fly with you. Dela...   \n",
       "2996               0  .@united Nope - had to rebook through Houston ...   \n",
       "919                0  @united empathizes w/ my disappointment that 1...   \n",
       "3489               0  @united thanks ^mr i got rebooked already but ...   \n",
       "\n",
       "      tweet_coord             tweet_created                tweet_location  \\\n",
       "12783         NaN 2015-02-23 16:56:04-08:00            Austin, Texas area   \n",
       "1666          NaN 2015-02-22 14:53:05-08:00                       Toronto   \n",
       "11827         NaN 2015-02-17 09:17:08-08:00              Chicagoland Area   \n",
       "12528         NaN 2015-02-23 23:31:38-08:00                          Ohio   \n",
       "7934          NaN 2015-02-20 18:39:30-08:00                    Boston, MA   \n",
       "9506          NaN 2015-02-23 08:41:29-08:00  Watching @Interpol somewhere   \n",
       "4106          NaN 2015-02-17 15:05:04-08:00                      Hilo, HI   \n",
       "2996          NaN 2015-02-20 08:05:39-08:00             San Francisco, CA   \n",
       "919           NaN 2015-02-23 16:16:39-08:00                      Brooklyn   \n",
       "3489          NaN 2015-02-19 04:11:12-08:00                        NJ/NYC   \n",
       "\n",
       "                    user_timezone  geo latitude longitude  \n",
       "12783  Central Time (US & Canada)  NaN      NaN       NaN  \n",
       "1666   Eastern Time (US & Canada)  NaN      NaN       NaN  \n",
       "11827  Central Time (US & Canada)  NaN      NaN       NaN  \n",
       "12528                       Quito  NaN      NaN       NaN  \n",
       "7934   Eastern Time (US & Canada)  NaN      NaN       NaN  \n",
       "9506                    Amsterdam  NaN      NaN       NaN  \n",
       "4106                       Hawaii  NaN      NaN       NaN  \n",
       "2996                          NaN  NaN      NaN       NaN  \n",
       "919    Eastern Time (US & Canada)  NaN      NaN       NaN  \n",
       "3489   Eastern Time (US & Canada)  NaN      NaN       NaN  "
      ]
     },
     "execution_count": 19,
     "metadata": {},
     "output_type": "execute_result"
    }
   ],
   "source": [
    "data.sample(10)"
   ]
  },
  {
   "cell_type": "code",
   "execution_count": null,
   "metadata": {
    "scrolled": true
   },
   "outputs": [],
   "source": [
    "data[~data['geo'].isna()]['geo']"
   ]
  },
  {
   "cell_type": "code",
   "execution_count": null,
   "metadata": {},
   "outputs": [],
   "source": [
    "coords = data[~data['geo'].isna()][['latitude', 'longitude']].astype(float).reset_index(drop=True)\n",
    "coords.head()"
   ]
  },
  {
   "cell_type": "code",
   "execution_count": null,
   "metadata": {},
   "outputs": [],
   "source": [
    "type(coords.iloc[0]['latitude'])"
   ]
  },
  {
   "cell_type": "code",
   "execution_count": null,
   "metadata": {},
   "outputs": [],
   "source": [
    "coords.to_csv('./data/coords.csv', index = False)"
   ]
  },
  {
   "cell_type": "code",
   "execution_count": null,
   "metadata": {},
   "outputs": [],
   "source": [
    "import streamlit as st\n",
    "st.map(coords)"
   ]
  },
  {
   "cell_type": "code",
   "execution_count": null,
   "metadata": {},
   "outputs": [],
   "source": []
  }
 ],
 "metadata": {
  "kernelspec": {
   "display_name": "Python 3",
   "language": "python",
   "name": "python3"
  },
  "language_info": {
   "codemirror_mode": {
    "name": "ipython",
    "version": 3
   },
   "file_extension": ".py",
   "mimetype": "text/x-python",
   "name": "python",
   "nbconvert_exporter": "python",
   "pygments_lexer": "ipython3",
   "version": "3.8.5"
  }
 },
 "nbformat": 4,
 "nbformat_minor": 4
}
